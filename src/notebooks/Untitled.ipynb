{
 "cells": [
  {
   "cell_type": "code",
   "execution_count": 19,
   "metadata": {},
   "outputs": [],
   "source": [
    "from pymongo import MongoClient\n",
    "import pandas as pd \n",
    "import numpy as np"
   ]
  },
  {
   "cell_type": "code",
   "execution_count": 20,
   "metadata": {},
   "outputs": [],
   "source": [
    "client = MongoClient()\n",
    "db = client['toxic_articles']\n",
    "articles = list(db.articles.find({}))"
   ]
  },
  {
   "cell_type": "code",
   "execution_count": 12,
   "metadata": {},
   "outputs": [],
   "source": [
    "df = pd.DataFrame(articles)"
   ]
  },
  {
   "cell_type": "code",
   "execution_count": 21,
   "metadata": {},
   "outputs": [
    {
     "name": "stdout",
     "output_type": "stream",
     "text": [
      "Борисов не е съгласен Цветанов да е парламентарен сътрудник на ГЕРБ 2\n"
     ]
    }
   ],
   "source": [
    "for k, v in df['title'].value_counts().items():\n",
    "    if v > 1:\n",
    "        print(k, v)"
   ]
  },
  {
   "cell_type": "code",
   "execution_count": 28,
   "metadata": {
    "scrolled": true
   },
   "outputs": [
    {
     "name": "stdout",
     "output_type": "stream",
     "text": [
      "фалшиви новини\n",
      "-------------------------\n",
      "сензации\n",
      "-------------------------\n",
      "реч на омразата\n",
      "-------------------------\n",
      "клевети\n",
      "-------------------------\n",
      "конспирации\n",
      "-------------------------\n",
      "анти-демократичен\n",
      "-------------------------\n",
      "фалшиви новини\n",
      "-------------------------\n",
      "сензации\n",
      "-------------------------\n",
      "сензации\n",
      "-------------------------\n",
      "конспирации\n",
      "-------------------------\n",
      "клевети\n",
      "-------------------------\n",
      "фалшиви новини\n",
      "-------------------------\n",
      "реч на омразата\n",
      "-------------------------\n",
      "конспирации\n",
      "-------------------------\n",
      "фалшиви новини\n",
      "-------------------------\n",
      "клевети\n",
      "-------------------------\n",
      "нетоксичен\n",
      "-------------------------\n",
      "нетоксичен\n",
      "-------------------------\n",
      "нетоксичен\n",
      "-------------------------\n",
      "нетоксичен\n",
      "-------------------------\n",
      "нетоксичен\n",
      "-------------------------\n",
      "нетоксичен\n",
      "-------------------------\n",
      "нетоксичен\n",
      "-------------------------\n"
     ]
    }
   ],
   "source": [
    "for a in articles:\n",
    "    if 'секс' in a['text'].lower():\n",
    "        print(a['label'])\n",
    "        print('-------------------------')"
   ]
  },
  {
   "cell_type": "code",
   "execution_count": 6,
   "metadata": {
    "scrolled": true
   },
   "outputs": [
    {
     "ename": "NameError",
     "evalue": "name 'i' is not defined",
     "output_type": "error",
     "traceback": [
      "\u001b[1;31m---------------------------------------------------------------------------\u001b[0m",
      "\u001b[1;31mNameError\u001b[0m                                 Traceback (most recent call last)",
      "\u001b[1;32m<ipython-input-6-61b117378e89>\u001b[0m in \u001b[0;36m<module>\u001b[1;34m\u001b[0m\n\u001b[1;32m----> 1\u001b[1;33m \u001b[0mi\u001b[0m\u001b[1;33m+=\u001b[0m\u001b[1;36m1\u001b[0m\u001b[1;33m\u001b[0m\u001b[1;33m\u001b[0m\u001b[0m\n\u001b[0m\u001b[0;32m      2\u001b[0m \u001b[0mprint\u001b[0m\u001b[1;33m(\u001b[0m\u001b[0mi\u001b[0m\u001b[1;33m)\u001b[0m\u001b[1;33m\u001b[0m\u001b[1;33m\u001b[0m\u001b[0m\n\u001b[0;32m      3\u001b[0m \u001b[0mnext\u001b[0m\u001b[1;33m(\u001b[0m\u001b[0mquery\u001b[0m\u001b[1;33m)\u001b[0m\u001b[1;33m[\u001b[0m\u001b[1;34m'title'\u001b[0m\u001b[1;33m]\u001b[0m\u001b[1;33m\u001b[0m\u001b[1;33m\u001b[0m\u001b[0m\n",
      "\u001b[1;31mNameError\u001b[0m: name 'i' is not defined"
     ]
    }
   ],
   "source": [
    "i+=1\n",
    "print(i)\n",
    "next(query)['title']"
   ]
  },
  {
   "cell_type": "code",
   "execution_count": null,
   "metadata": {},
   "outputs": [],
   "source": [
    "query = db.articles.find({})\n",
    "i=0"
   ]
  },
  {
   "cell_type": "code",
   "execution_count": null,
   "metadata": {},
   "outputs": [],
   "source": [
    "articles = list(db.articles.find({}))\n"
   ]
  },
  {
   "cell_type": "code",
   "execution_count": null,
   "metadata": {},
   "outputs": [],
   "source": [
    "articles.shape"
   ]
  }
 ],
 "metadata": {
  "kernelspec": {
   "display_name": "Python 3",
   "language": "python",
   "name": "python3"
  },
  "language_info": {
   "codemirror_mode": {
    "name": "ipython",
    "version": 3
   },
   "file_extension": ".py",
   "mimetype": "text/x-python",
   "name": "python",
   "nbconvert_exporter": "python",
   "pygments_lexer": "ipython3",
   "version": "3.7.1"
  }
 },
 "nbformat": 4,
 "nbformat_minor": 2
}
