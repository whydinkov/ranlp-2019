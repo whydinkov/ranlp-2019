{
 "cells": [
  {
   "cell_type": "code",
   "execution_count": 1,
   "metadata": {},
   "outputs": [],
   "source": [
    "from pymongo import MongoClient\n",
    "import pandas as pd \n",
    "import numpy as np\n",
    "\n",
    "%matplotlib inline\n",
    "\n",
    "from sklearn.pipeline import Pipeline, FeatureUnion\n",
    "from sklearn.preprocessing import Normalizer, FunctionTransformer\n",
    "from sklearn.model_selection import cross_val_score\n",
    "from sklearn.svm import LinearSVC\n",
    "from sklearn.linear_model import LogisticRegression\n",
    "from sklearn.dummy import DummyClassifier\n",
    "from sklearn.feature_extraction.text import TfidfVectorizer\n",
    "from sklearn.decomposition import TruncatedSVD"
   ]
  },
  {
   "cell_type": "code",
   "execution_count": 2,
   "metadata": {},
   "outputs": [],
   "source": [
    "np.random.seed(42)"
   ]
  },
  {
   "cell_type": "code",
   "execution_count": 3,
   "metadata": {},
   "outputs": [],
   "source": [
    "client = MongoClient()\n",
    "db = client['toxic_articles']\n",
    "articles = list(db.articles.find({}))"
   ]
  },
  {
   "cell_type": "code",
   "execution_count": 4,
   "metadata": {},
   "outputs": [],
   "source": [
    "articles_df = pd.DataFrame(articles)"
   ]
  },
  {
   "cell_type": "code",
   "execution_count": 5,
   "metadata": {},
   "outputs": [
    {
     "data": {
      "text/plain": [
       "<matplotlib.axes._subplots.AxesSubplot at 0x1fd144649e8>"
      ]
     },
     "execution_count": 5,
     "metadata": {},
     "output_type": "execute_result"
    },
    {
     "data": {
      "image/png": "[encoded data removed]",
      "text/plain": [
       "<Figure size 432x288 with 1 Axes>"
      ]
     },
     "metadata": {
      "needs_background": "light"
     },
     "output_type": "display_data"
    }
   ],
   "source": [
    "articles_df['label'].value_counts().plot(kind='bar')"
   ]
  },
  {
   "cell_type": "code",
   "execution_count": 6,
   "metadata": {},
   "outputs": [
    {
     "name": "stdout",
     "output_type": "stream",
     "text": [
      "(317, 10)\n",
      "avg text len 3616.044164037855\n",
      "avg title len 70.47318611987382\n"
     ]
    }
   ],
   "source": [
    "print(articles_df.shape)\n",
    "print('avg text len', np.average(articles_df['text'].str.len()))\n",
    "print('avg title len', np.average(articles_df['title'].str.len()))"
   ]
  },
  {
   "cell_type": "code",
   "execution_count": 21,
   "metadata": {},
   "outputs": [],
   "source": [
    "def make_clf():\n",
    "    return Pipeline([\n",
    "        ('feats', FeatureUnion([\n",
    "            ('lsa_title', Pipeline([\n",
    "                ('selector', FunctionTransformer(lambda x: x['title'].tolist(), validate=False)),\n",
    "                ('tfidf', TfidfVectorizer(min_df=2, stop_words=None)),\n",
    "                ('dim_red', TruncatedSVD(15, random_state=0))\n",
    "            ])),\n",
    "            ('lsa_text', Pipeline([\n",
    "                ('selector', FunctionTransformer(lambda x: x['text'].tolist(), validate=False)),\n",
    "                ('tfidf', TfidfVectorizer(min_df=2, stop_words=None)),\n",
    "                ('dim_red', TruncatedSVD(250, random_state=0))\n",
    "            ])),\n",
    "            \n",
    "        ])),\n",
    "        ('clf', LinearSVC(tol=0.01, C=3.5))\n",
    "    ])"
   ]
  },
  {
   "cell_type": "code",
   "execution_count": 22,
   "metadata": {},
   "outputs": [
    {
     "data": {
      "text/plain": [
       "0.5400879943568652"
      ]
     },
     "execution_count": 22,
     "metadata": {},
     "output_type": "execute_result"
    }
   ],
   "source": [
    "np.average(cross_val_score(make_clf(), articles_df, articles_df['label'], cv=5, scoring='accuracy'))"
   ]
  },
  {
   "cell_type": "code",
   "execution_count": null,
   "metadata": {},
   "outputs": [],
   "source": [
    "stop?"
   ]
  },
  {
   "cell_type": "code",
   "execution_count": 9,
   "metadata": {},
   "outputs": [
    {
     "data": {
      "text/html": [
       "<div>\n",
       "<style scoped>\n",
       "    .dataframe tbody tr th:only-of-type {\n",
       "        vertical-align: middle;\n",
       "    }\n",
       "\n",
       "    .dataframe tbody tr th {\n",
       "        vertical-align: top;\n",
       "    }\n",
       "\n",
       "    .dataframe thead th {\n",
       "        text-align: right;\n",
       "    }\n",
       "</style>\n",
       "<table border=\"1\" class=\"dataframe\">\n",
       "  <thead>\n",
       "    <tr style=\"text-align: right;\">\n",
       "      <th></th>\n",
       "      <th>_id</th>\n",
       "      <th>authors</th>\n",
       "      <th>label</th>\n",
       "      <th>link</th>\n",
       "      <th>media_info</th>\n",
       "      <th>origin</th>\n",
       "      <th>publish_date</th>\n",
       "      <th>text</th>\n",
       "      <th>title</th>\n",
       "      <th>translation</th>\n",
       "    </tr>\n",
       "  </thead>\n",
       "  <tbody>\n",
       "    <tr>\n",
       "      <th>0</th>\n",
       "      <td>5cab3aefb7ddb24c08a4a1c5</td>\n",
       "      <td>[]</td>\n",
       "      <td>фалшиви новини</td>\n",
       "      <td>https://www.vesti.bg/lyubopitno/sveji/vegani-o...</td>\n",
       "      <td>{'editor': '', 'responsible_person': '', 'esta...</td>\n",
       "      <td>www.vesti.bg</td>\n",
       "      <td>NaT</td>\n",
       "      <td>И спанска двойка от Севиля - Марио Бостес и Ир...</td>\n",
       "      <td>Вегани осиновиха броколи в Испания - Любопитно</td>\n",
       "      <td>{'title': 'Vegans adopted broccoli in Spain - ...</td>\n",
       "    </tr>\n",
       "    <tr>\n",
       "      <th>1</th>\n",
       "      <td>5cab3af0b7ddb24c08a4a1c6</td>\n",
       "      <td>[]</td>\n",
       "      <td>фалшиви новини</td>\n",
       "      <td>https://www.blitz.bg/analizi-i-komentari/skand...</td>\n",
       "      <td>{'editor': '', 'responsible_person': '', 'esta...</td>\n",
       "      <td>www.blitz.bg</td>\n",
       "      <td>NaT</td>\n",
       "      <td>Бойко обича жените. Радан обича мъжете. Това е...</td>\n",
       "      <td>Скандална гей дружина клати България! Стига ве...</td>\n",
       "      <td>{'title': 'Scandalous gay band shakes Bulgaria...</td>\n",
       "    </tr>\n",
       "    <tr>\n",
       "      <th>2</th>\n",
       "      <td>5cab3af1b7ddb24c08a4a1c7</td>\n",
       "      <td>[]</td>\n",
       "      <td>клевети</td>\n",
       "      <td>https://www.blitz.bg/obshtestvo/blskov-na-prot...</td>\n",
       "      <td>{'editor': '', 'responsible_person': '', 'esta...</td>\n",
       "      <td>www.blitz.bg</td>\n",
       "      <td>NaT</td>\n",
       "      <td>Протестите повече попречиха на хората, отколко...</td>\n",
       "      <td>Блъсков: На протестърите им бе плащано и това ...</td>\n",
       "      <td>{'title': 'Blaskov: Their protestors were paid...</td>\n",
       "    </tr>\n",
       "    <tr>\n",
       "      <th>3</th>\n",
       "      <td>5cab3af2b7ddb24c08a4a1c8</td>\n",
       "      <td>[]</td>\n",
       "      <td>заблуди</td>\n",
       "      <td>https://www.blitz.bg/politika/tsik-obyavyava-g...</td>\n",
       "      <td>{'editor': '', 'responsible_person': '', 'esta...</td>\n",
       "      <td>www.blitz.bg</td>\n",
       "      <td>NaT</td>\n",
       "      <td>Очаква се днес Централната избирателна комисия...</td>\n",
       "      <td>ЦИК обявява голяма новина, на ход е Радев!</td>\n",
       "      <td>{'title': 'CEC announces big news, Radev moves...</td>\n",
       "    </tr>\n",
       "    <tr>\n",
       "      <th>4</th>\n",
       "      <td>5cab3af2b7ddb24c08a4a1c9</td>\n",
       "      <td>[]</td>\n",
       "      <td>реч на омразата</td>\n",
       "      <td>https://www.24chasa.bg/mnenia/article/7090368</td>\n",
       "      <td>{'editor': 'Борислав Зюмбюлев', 'responsible_p...</td>\n",
       "      <td>www.24chasa.bg</td>\n",
       "      <td>NaT</td>\n",
       "      <td>Провинциалистките също са хора  Убийството на ...</td>\n",
       "      <td>Виктория Маринова не трябва да бъде забравена</td>\n",
       "      <td>{'title': 'Victoria Marinova should not be for...</td>\n",
       "    </tr>\n",
       "  </tbody>\n",
       "</table>\n",
       "</div>"
      ],
      "text/plain": [
       "                        _id authors            label  \\\n",
       "0  5cab3aefb7ddb24c08a4a1c5      []   фалшиви новини   \n",
       "1  5cab3af0b7ddb24c08a4a1c6      []   фалшиви новини   \n",
       "2  5cab3af1b7ddb24c08a4a1c7      []          клевети   \n",
       "3  5cab3af2b7ddb24c08a4a1c8      []          заблуди   \n",
       "4  5cab3af2b7ddb24c08a4a1c9      []  реч на омразата   \n",
       "\n",
       "                                                link  \\\n",
       "0  https://www.vesti.bg/lyubopitno/sveji/vegani-o...   \n",
       "1  https://www.blitz.bg/analizi-i-komentari/skand...   \n",
       "2  https://www.blitz.bg/obshtestvo/blskov-na-prot...   \n",
       "3  https://www.blitz.bg/politika/tsik-obyavyava-g...   \n",
       "4      https://www.24chasa.bg/mnenia/article/7090368   \n",
       "\n",
       "                                          media_info          origin  \\\n",
       "0  {'editor': '', 'responsible_person': '', 'esta...    www.vesti.bg   \n",
       "1  {'editor': '', 'responsible_person': '', 'esta...    www.blitz.bg   \n",
       "2  {'editor': '', 'responsible_person': '', 'esta...    www.blitz.bg   \n",
       "3  {'editor': '', 'responsible_person': '', 'esta...    www.blitz.bg   \n",
       "4  {'editor': 'Борислав Зюмбюлев', 'responsible_p...  www.24chasa.bg   \n",
       "\n",
       "  publish_date                                               text  \\\n",
       "0          NaT  И спанска двойка от Севиля - Марио Бостес и Ир...   \n",
       "1          NaT  Бойко обича жените. Радан обича мъжете. Това е...   \n",
       "2          NaT  Протестите повече попречиха на хората, отколко...   \n",
       "3          NaT  Очаква се днес Централната избирателна комисия...   \n",
       "4          NaT  Провинциалистките също са хора  Убийството на ...   \n",
       "\n",
       "                                               title  \\\n",
       "0     Вегани осиновиха броколи в Испания - Любопитно   \n",
       "1  Скандална гей дружина клати България! Стига ве...   \n",
       "2  Блъсков: На протестърите им бе плащано и това ...   \n",
       "3         ЦИК обявява голяма новина, на ход е Радев!   \n",
       "4      Виктория Маринова не трябва да бъде забравена   \n",
       "\n",
       "                                         translation  \n",
       "0  {'title': 'Vegans adopted broccoli in Spain - ...  \n",
       "1  {'title': 'Scandalous gay band shakes Bulgaria...  \n",
       "2  {'title': 'Blaskov: Their protestors were paid...  \n",
       "3  {'title': 'CEC announces big news, Radev moves...  \n",
       "4  {'title': 'Victoria Marinova should not be for...  "
      ]
     },
     "execution_count": 9,
     "metadata": {},
     "output_type": "execute_result"
    }
   ],
   "source": [
    "articles_df.head()"
   ]
  }
 ],
 "metadata": {
  "kernelspec": {
   "display_name": "Python 3",
   "language": "python",
   "name": "python3"
  },
  "language_info": {
   "codemirror_mode": {
    "name": "ipython",
    "version": 3
   },
   "file_extension": ".py",
   "mimetype": "text/x-python",
   "name": "python",
   "nbconvert_exporter": "python",
   "pygments_lexer": "ipython3",
   "version": "3.7.1"
  }
 },
 "nbformat": 4,
 "nbformat_minor": 2
}
